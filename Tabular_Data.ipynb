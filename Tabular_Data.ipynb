{
 "cells": [
  {
   "cell_type": "markdown",
   "metadata": {},
   "source": [
    "## Lesson on Tabular Data"
   ]
  },
  {
   "cell_type": "code",
   "execution_count": 2,
   "metadata": {},
   "outputs": [],
   "source": [
    "import numpy as np\n",
    "import os"
   ]
  },
  {
   "cell_type": "code",
   "execution_count": 4,
   "metadata": {},
   "outputs": [
    {
     "name": "stdout",
     "output_type": "stream",
     "text": [
      "[['Frame' 'THR4_ATP' 'THR4_ASP' 'TYR6_ATP' 'TYR6_ASP']\n",
      " ['1' '8.9542' '5.8024' '11.5478' '9.9557']\n",
      " ['2' '8.6181' '6.0942' '13.9594' '11.6945']\n",
      " ...\n",
      " ['9998' '8.6625' '7.7306' '9.5469' '10.3063']\n",
      " ['9999' '9.2456' '7.8886' '9.8151' '10.7564']\n",
      " ['10000' '8.8135' '7.917' '9.9517' '10.7848']]\n"
     ]
    }
   ],
   "source": [
    "distance_file=os.path.join('distance_data_headers.csv')\n",
    "distances=np.genfromtxt(fname=distance_file, delimiter=',', dtype='unicode')\n",
    "print(distances)"
   ]
  },
  {
   "cell_type": "code",
   "execution_count": 5,
   "metadata": {},
   "outputs": [
    {
     "name": "stdout",
     "output_type": "stream",
     "text": [
      "[['1' '8.9542' '5.8024' '11.5478' '9.9557']\n",
      " ['2' '8.6181' '6.0942' '13.9594' '11.6945']\n",
      " ['3' '9.0066' '6.0637' '13.0924' '11.3043']\n",
      " ...\n",
      " ['9998' '8.6625' '7.7306' '9.5469' '10.3063']\n",
      " ['9999' '9.2456' '7.8886' '9.8151' '10.7564']\n",
      " ['10000' '8.8135' '7.917' '9.9517' '10.7848']]\n"
     ]
    }
   ],
   "source": [
    "headers=distances[0]\n",
    "data=distances[1:]\n",
    "print(data)"
   ]
  },
  {
   "cell_type": "code",
   "execution_count": 22,
   "metadata": {},
   "outputs": [
    {
     "name": "stdout",
     "output_type": "stream",
     "text": [
      "[[  1.       5.8024]\n",
      " [101.       5.7436]\n",
      " [201.       8.9265]\n",
      " [301.       7.6506]\n",
      " [401.       7.6897]\n",
      " [501.       7.6354]\n",
      " [601.       5.9674]\n",
      " [701.       6.2847]\n",
      " [801.       7.6997]\n",
      " [901.       6.7667]]\n"
     ]
    }
   ],
   "source": [
    "data=data.astype(np.float)\n",
    "print(data[0:1000:100, 0:4:2])"
   ]
  },
  {
   "cell_type": "code",
   "execution_count": 23,
   "metadata": {},
   "outputs": [
    {
     "name": "stdout",
     "output_type": "stream",
     "text": [
      "[[8.9542 5.8024]\n",
      " [8.6181 6.0942]\n",
      " [9.0066 6.0637]\n",
      " [9.2002 6.0227]\n",
      " [9.1294 5.9365]\n",
      " [9.0462 6.2553]\n",
      " [8.8657 5.9186]\n",
      " [9.3256 6.2351]\n",
      " [9.4184 6.1993]\n",
      " [9.06   6.0478]]\n"
     ]
    }
   ],
   "source": [
    "small_data=data[0:10, 0:3]\n",
    "print(small_data[:,1:])"
   ]
  },
  {
   "cell_type": "code",
   "execution_count": 29,
   "metadata": {},
   "outputs": [
    {
     "name": "stdout",
     "output_type": "stream",
     "text": [
      "10.876950930000001\n"
     ]
    }
   ],
   "source": [
    "mean_data=data[:,1]\n",
    "mean=np.mean(mean_data)\n",
    "print(mean)"
   ]
  },
  {
   "cell_type": "code",
   "execution_count": 32,
   "metadata": {},
   "outputs": [
    {
     "name": "stdout",
     "output_type": "stream",
     "text": [
      "THR4_ATP : 10.877\n",
      "THR4_ASP : 7.342\n",
      "TYR6_ATP : 11.210\n",
      "TYR6_ASP : 10.993\n"
     ]
    }
   ],
   "source": [
    "num_columns=len(data[0,:])\n",
    "for num in range(1,num_columns):\n",
    "    column=data[:,num]\n",
    "    avg_col=np.mean(column)\n",
    "    print(F'{headers[num]} : {avg_col:.3f}')"
   ]
  },
  {
   "cell_type": "code",
   "execution_count": null,
   "metadata": {},
   "outputs": [],
   "source": []
  }
 ],
 "metadata": {
  "kernelspec": {
   "display_name": "Python 3",
   "language": "python",
   "name": "python3"
  },
  "language_info": {
   "codemirror_mode": {
    "name": "ipython",
    "version": 3
   },
   "file_extension": ".py",
   "mimetype": "text/x-python",
   "name": "python",
   "nbconvert_exporter": "python",
   "pygments_lexer": "ipython3",
   "version": "3.7.3"
  }
 },
 "nbformat": 4,
 "nbformat_minor": 2
}
