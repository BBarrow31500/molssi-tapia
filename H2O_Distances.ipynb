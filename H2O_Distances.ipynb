{
 "cells": [
  {
   "cell_type": "markdown",
   "metadata": {},
   "source": [
    "## H2O Distances"
   ]
  },
  {
   "cell_type": "code",
   "execution_count": 7,
   "metadata": {},
   "outputs": [],
   "source": [
    "import numpy as np\n",
    "import os"
   ]
  },
  {
   "cell_type": "code",
   "execution_count": 28,
   "metadata": {
    "scrolled": true
   },
   "outputs": [
    {
     "name": "stdout",
     "output_type": "stream",
     "text": [
      "[['O' '0.000000' '-0.007156' '0.965491']\n",
      " ['H1' '-0.000000' '0.001486' '-0.003471']\n",
      " ['H2' '0.000000' '0.931026' '1.207929']]\n"
     ]
    }
   ],
   "source": [
    "water_data=os.path.join('water.xyz')\n",
    "data=np.genfromtxt(fname=water_data, dtype='unicode', skip_header=2)\n",
    "print(data)"
   ]
  },
  {
   "cell_type": "code",
   "execution_count": 84,
   "metadata": {},
   "outputs": [],
   "source": [
    "def bond_check (distance):\n",
    "    if distance<1.5:\n",
    "        print('True')\n",
    "    elif distance==1.5:\n",
    "        print('Maybe')\n",
    "    else:\n",
    "        print('False')"
   ]
  },
  {
   "cell_type": "code",
   "execution_count": 87,
   "metadata": {},
   "outputs": [
    {
     "name": "stdout",
     "output_type": "stream",
     "text": [
      "True\n",
      "H1 to O = 0.969\n",
      "True\n",
      "H2 to O = 0.969\n",
      "False\n",
      "H2 to H1 = 1.527\n"
     ]
    }
   ],
   "source": [
    "\n",
    "for num1 in range(0,3):\n",
    "    title=data[num1,0]\n",
    "    x1=float(data[num1,1])\n",
    "    y1=float(data[num1,2])\n",
    "    z1=float(data[num1,3])\n",
    "    for num2 in range(0,3):\n",
    "        if num1>num2:\n",
    "            title2=data[num2,0]\n",
    "            x2=float(data[num2,1])\n",
    "            y2=float(data[num2,2])\n",
    "            z2=float(data[num2,3])\n",
    "            distance=np.sqrt((x2-x1)**2+(y2-y1)**2+(z2-z1)**2)\n",
    "            bond_check(distance)\n",
    "            water_dist=F'{title} to {title2} = {distance:.4}'\n",
    "            print(water_dist)\n"
   ]
  },
  {
   "cell_type": "code",
   "execution_count": null,
   "metadata": {},
   "outputs": [],
   "source": []
  }
 ],
 "metadata": {
  "kernelspec": {
   "display_name": "Python 3",
   "language": "python",
   "name": "python3"
  },
  "language_info": {
   "codemirror_mode": {
    "name": "ipython",
    "version": 3
   },
   "file_extension": ".py",
   "mimetype": "text/x-python",
   "name": "python",
   "nbconvert_exporter": "python",
   "pygments_lexer": "ipython3",
   "version": "3.7.3"
  }
 },
 "nbformat": 4,
 "nbformat_minor": 2
}
